{
  "cells": [
    {
      "cell_type": "code",
      "execution_count": null,
      "metadata": {
        "id": "sX3ZyYb_Kc9C"
      },
      "outputs": [],
      "source": [
        "# Телеграмм бот\n",
        "# Установка библиотек\n",
        "!pip install openai\n",
        "!pip install loguru\n",
        "# !pip install openai==0.27.8\n",
        "!pip install --upgrade tiktoken\n",
        "!pip install langchain\n",
        "!pip install -U langchain-openai\n",
        "!pip install faiss-cpu\n",
        "!pip install -U langchain-community\n",
        "!pip install python-telegram-bot\n",
        "!pip install load_dotenv\n",
        "# подключаем необходимые для работы библиотеки\n",
        "from google.colab import drive"
      ]
    },
    {
      "cell_type": "code",
      "execution_count": null,
      "metadata": {
        "id": "AFsnzi5xK8PB"
      },
      "outputs": [],
      "source": [
        "# Подключаем Google disk\n",
        "# для этого необходима учетная запись на гугл\n",
        "drive.mount('/content/drive')"
      ]
    },
    {
      "cell_type": "code",
      "execution_count": null,
      "metadata": {
        "id": "qoDl6tcASuJS"
      },
      "outputs": [],
      "source": [
        "# Переходим в папку бота\n",
        "%cd /content/drive/MyDrive/Bot-MixID/Python\n",
        "# Запускаем TG ботa\n",
        "!python /content/drive/MyDrive/Bot-MixID/Python/platon_tgbot_gpt.py"
      ]
    }
  ],
  "metadata": {
    "colab": {
      "provenance": []
    },
    "kernelspec": {
      "display_name": "Python 3",
      "name": "python3"
    },
    "language_info": {
      "name": "python"
    }
  },
  "nbformat": 4,
  "nbformat_minor": 0
}