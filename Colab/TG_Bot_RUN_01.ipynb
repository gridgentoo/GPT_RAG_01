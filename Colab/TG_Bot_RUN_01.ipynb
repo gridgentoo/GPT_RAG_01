{
  "cells": [
    {
      "cell_type": "code",
      "execution_count": null,
      "metadata": {
        "id": "sX3ZyYb_Kc9C"
      },
      "outputs": [],
      "source": [
        "# Телеграмм бот\n",
        "# Установка библиотек\n",
        "!pip -q install openai\n",
        "!pip -q install loguru\n",
        "!pip -q install tiktoken\n",
        "!pip -q install langchain\n",
        "!pip -q install langchain-openai\n",
        "!pip -q install faiss-cpu\n",
        "!pip -q install langchain-community\n",
        "!pip -q install python-telegram-bot\n",
        "!pip -q install load_dotenv\n",
        "# подключаем необходимые для работы библиотеки\n",
        "from google.colab import drive"
      ]
    },
    {
      "cell_type": "code",
      "execution_count": null,
      "metadata": {
        "id": "AFsnzi5xK8PB"
      },
      "outputs": [],
      "source": [
        "# Подключаем Google disk\n",
        "# для этого необходима учетная запись на гугл\n",
        "drive.mount('/content/drive')"
      ]
    },
    {
      "cell_type": "code",
      "execution_count": null,
      "metadata": {
        "id": "qoDl6tcASuJS"
      },
      "outputs": [],
      "source": [
        "# Переходим в папку бота\n",
        "%cd /content/drive/MyDrive/TestBot01/Python\n",
        "# Запускаем TG ботa\n",
        "!python /content/drive/MyDrive/TestBot01/Python/platon_tgbot_gpt.py"
      ]
    }
  ],
  "metadata": {
    "colab": {
      "provenance": []
    },
    "kernelspec": {
      "display_name": "Python 3",
      "name": "python3"
    },
    "language_info": {
      "name": "python"
    }
  },
  "nbformat": 4,
  "nbformat_minor": 0
}